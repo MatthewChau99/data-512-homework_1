{
 "cells": [
  {
   "cell_type": "markdown",
   "metadata": {},
   "source": [
    "# Demo\n",
    "This notebook is a demo for people who are interested in further research on this project or who are trying to reproduce the results. Python3 is required for the code to run properly."
   ]
  },
  {
   "cell_type": "markdown",
   "metadata": {},
   "source": [
    "## Config\n",
    "To install the requirements, run the following code in the terminal.\n",
    "`pip3 install -r requirements.txt`\n",
    "This command would install all dependencies required for this project."
   ]
  },
  {
   "cell_type": "markdown",
   "metadata": {},
   "source": [
    "## Import\n",
    "First we need to import the required libraries"
   ]
  },
  {
   "cell_type": "code",
   "execution_count": 1,
   "metadata": {},
   "outputs": [],
   "source": [
    "import json\n",
    "import os\n",
    "import time\n",
    "import urllib\n",
    "\n",
    "import pandas as pd\n",
    "import requests\n",
    "import tqdm\n",
    "import matplotlib.pyplot as plt\n",
    "import numpy as np\n",
    "import pandas as pd\n",
    "import seaborn as sns"
   ]
  },
  {
   "cell_type": "markdown",
   "metadata": {},
   "source": [
    "## Data Acquisition\n",
    "To obtain the JSON files in `/data/data_clean/`, we could use the three functions in `/src/data_query.py`. All the output files would be located in `/data/data_clean`"
   ]
  },
  {
   "cell_type": "code",
   "execution_count": null,
   "metadata": {},
   "outputs": [],
   "source": [
    "from data_query import generate_monthly_mobile_access, generate_monthly_desktop_access, generate_monthly_cumulative\n",
    "\n",
    "# start date and end date must be in the format of \"%Y%m%d\", such as \"20151225\" indicates Dec.25 of 2015\n",
    "start_date, end_date = None, None\n",
    "# Generate monthly mobile traffic data\n",
    "mobile_dict = generate_monthly_mobile_access(start_date, end_date)\n",
    "\n",
    "# Generate monthly desktop traffic data\n",
    "desktop_dict = generate_monthly_desktop_access(start_date, end_date)\n",
    "\n",
    "# Generate cumulative monthly traffic data for mobile and desktop\n",
    "cumu_dict = generate_monthly_cumulative(start_date, end_date)"
   ]
  },
  {
   "cell_type": "markdown",
   "metadata": {},
   "source": [
    "## Data Visualization\n",
    "To obtain the graphs in `/img/`, we could use the three functions in `/src/data_visualize.py`. All the output files would be located in `/img/`."
   ]
  },
  {
   "cell_type": "code",
   "execution_count": 7,
   "metadata": {},
   "outputs": [],
   "source": [
    "from data_visualize import plot_max_min_average, top_10_peak, fewest_month\n",
    "\n",
    "# Plotting Maximum Average and Minimum Average\n",
    "plot_max_min_average()\n",
    "\n",
    "# Plotting Top 10 Peak Page Views\n",
    "top_10_peak()\n",
    "\n",
    "# Plotting Fewest Months of Data\n",
    "fewest_month()"
   ]
  }
 ],
 "metadata": {
  "kernelspec": {
   "display_name": "Python 3.9.12 ('venv': venv)",
   "language": "python",
   "name": "python3"
  },
  "language_info": {
   "codemirror_mode": {
    "name": "ipython",
    "version": 3
   },
   "file_extension": ".py",
   "mimetype": "text/x-python",
   "name": "python",
   "nbconvert_exporter": "python",
   "pygments_lexer": "ipython3",
   "version": "3.9.12"
  },
  "orig_nbformat": 4,
  "vscode": {
   "interpreter": {
    "hash": "571a56e4d6b66236f44178d3849f7db975d463e3b40ed3d72e32ea01a686ced8"
   }
  }
 },
 "nbformat": 4,
 "nbformat_minor": 2
}
